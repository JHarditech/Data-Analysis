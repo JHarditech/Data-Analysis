{
 "cells": [
  {
   "cell_type": "markdown",
   "id": "05e2d733",
   "metadata": {},
   "source": [
    "# 🧹 Data Cleaning Notebook\n",
    "This notebook is designed to clean and prepare the Survey dataset for analysis."
   ]
  },
  {
   "cell_type": "markdown",
   "id": "30041169",
   "metadata": {},
   "source": [
    "## 1. Import Libraries"
   ]
  },
  {
   "cell_type": "code",
   "execution_count": null,
   "id": "aed53edb",
   "metadata": {},
   "outputs": [],
   "source": [
    "import pandas as pd\n",
    "import numpy as np"
   ]
  },
  {
   "cell_type": "markdown",
   "id": "a5272fc1",
   "metadata": {},
   "source": [
    "## 2. Load Dataset"
   ]
  },
  {
   "cell_type": "code",
   "execution_count": null,
   "id": "1209bae9",
   "metadata": {},
   "outputs": [],
   "source": [
    "df = pd.read_csv('dirtydata.csv')  # Replace with your actual file path\n",
    "pd.set_option('display.max_columns', None)\n",
    "df.head()"
   ]
  },
  {
   "cell_type": "markdown",
   "id": "f0a06766",
   "metadata": {},
   "source": [
    "## 3. Inspect Dataset"
   ]
  },
  {
   "cell_type": "code",
   "execution_count": null,
   "id": "76785036",
   "metadata": {},
   "outputs": [],
   "source": [
    "df.info()\n",
    "df.describe()\n",
    "df.isnull().sum()"
   ]
  },
  {
   "cell_type": "markdown",
   "id": "e634d18c",
   "metadata": {},
   "source": [
    "## 4. Handle Missing Values"
   ]
  },
  {
   "cell_type": "code",
   "execution_count": null,
   "id": "d17c1d0f",
   "metadata": {},
   "outputs": [],
   "source": [
    "# Example: Fill missing age with median\n",
    "df['age'].fillna(df['age'].median(), inplace=True)"
   ]
  },
  {
   "cell_type": "markdown",
   "id": "853bf9c4",
   "metadata": {},
   "source": [
    "## 5. Fix Data Types"
   ]
  },
  {
   "cell_type": "code",
   "execution_count": null,
   "id": "928f2acf",
   "metadata": {},
   "outputs": [],
   "source": [
    "# Example: Convert date columns\n",
    "df['join_date'] = pd.to_datetime(df['join_date'], errors='coerce')"
   ]
  },
  {
   "cell_type": "markdown",
   "id": "e87297eb",
   "metadata": {},
   "source": [
    "## 6. Standardize Text & Categories"
   ]
  },
  {
   "cell_type": "code",
   "execution_count": null,
   "id": "ccad51c0",
   "metadata": {},
   "outputs": [],
   "source": [
    "# Example: Fix inconsistent entries\n",
    "df['gender'] = df['gender'].str.strip().str.lower().replace({'f': 'female', 'm': 'male'})"
   ]
  },
  {
   "cell_type": "markdown",
   "id": "5b269a14",
   "metadata": {},
   "source": [
    "## 7. Remove Duplicates and Outliers"
   ]
  },
  {
   "cell_type": "code",
   "execution_count": null,
   "id": "36f49120",
   "metadata": {},
   "outputs": [],
   "source": [
    "# Remove duplicates\n",
    "df.drop_duplicates(inplace=True)\n",
    "\n",
    "# Remove outliers (example using z-score)\n",
    "from scipy.stats import zscore\n",
    "z_scores = np.abs(zscore(df.select_dtypes(include=[np.number])))\n",
    "df = df[(z_scores < 3).all(axis=1)]"
   ]
  },
  {
   "cell_type": "markdown",
   "id": "b80c4717",
   "metadata": {},
   "source": [
    "## 8. Final Check & Export Cleaned Data"
   ]
  },
  {
   "cell_type": "code",
   "execution_count": null,
   "id": "354ddf73",
   "metadata": {},
   "outputs": [],
   "source": [
    "df.info()\n",
    "df.to_csv('cleaned_survey_data.csv', index=False)"
   ]
  }
 ],
 "metadata": {},
 "nbformat": 4,
 "nbformat_minor": 5
}
